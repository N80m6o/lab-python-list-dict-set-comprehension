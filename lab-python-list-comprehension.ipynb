{
 "cells": [
  {
   "cell_type": "markdown",
   "id": "25d7736c-ba17-4aff-b6bb-66eba20fbf4e",
   "metadata": {},
   "source": [
    "# Lab | List, Dict and Set Comprehension"
   ]
  },
  {
   "cell_type": "markdown",
   "id": "7dd3cbde-675a-4b81-92c3-f728846dbe06",
   "metadata": {},
   "source": [
    "## Exercise: Managing Customer Orders Optimized with Comprehension"
   ]
  },
  {
   "cell_type": "markdown",
   "id": "5d500160-2fb7-4777-b5e4-09d45ebaf328",
   "metadata": {},
   "source": [
    "In the previous exercise, you developed a program to manage customer orders and inventory. Now, let's take it a step further and incorporate comprehension into your code.\n",
    "\n",
    "Follow the steps below to complete the exercise:\n",
    "\n",
    "1. Review your code from the previous exercise and identify areas where you can apply comprehension to simplify and streamline your code. \n",
    "\n",
    "    - *Hint: Apply it to initialize inventory, updating the inventory and printing the updated inventory.*\n",
    "    \n",
    "    - For example, in initializing the inventory, we could have:\n",
    "    \n",
    "        ```python\n",
    "        def initialize_inventory(products):\n",
    "            inventory = {product: int(input(f\"Enter the quantity of {product}s available: \")) for product in products}\n",
    "            return inventory\n",
    "\n",
    "        ```\n",
    "<br>\n",
    "    \n",
    "    \n",
    "2. Modify the function get_customer_orders so it prompts the user to enter the number of customer orders and gathers the product names using a loop and user input. Use comprehension.\n",
    "\n",
    "3. Add a new function to calculate the total price of the customer order. For each product in customer_orders, prompt the user to enter the price of that product. Use comprehension to calculate the total price. Note: assume that the user can only have 1 unit of each product.\n",
    "\n",
    "4. Modify the update_inventory function to remove the product from the inventory if its quantity becomes zero after fulfilling the customer orders. Use comprehension to filter out the products with a quantity of zero from the inventory.\n",
    "\n",
    "5. Print the total price of the customer order.\n",
    "\n",
    "Your code should produce output similar to the following:\n",
    "\n",
    "```python\n",
    "Enter the quantity of t-shirts available:  5\n",
    "Enter the quantity of mugs available:  4\n",
    "Enter the quantity of hats available:  3\n",
    "Enter the quantity of books available:  2\n",
    "Enter the quantity of keychains available:  1\n",
    "Enter the number of customer orders:  2\n",
    "Enter the name of a product that a customer wants to order:  hat\n",
    "Enter the name of a product that a customer wants to order:  keychain\n",
    "\n",
    "Order Statistics:\n",
    "Total Products Ordered: 2\n",
    "Percentage of Unique Products Ordered: 40.0\n",
    "\n",
    "Updated Inventory:\n",
    "t-shirt: 5\n",
    "mug: 4\n",
    "hat: 2\n",
    "book: 2\n",
    "Enter the price of keychain:  5\n",
    "Enter the price of hat:  10\n",
    "Total Price: 15.0\n",
    "\n",
    "```\n"
   ]
  },
  {
   "cell_type": "code",
   "execution_count": 39,
   "id": "749ff8b1",
   "metadata": {},
   "outputs": [],
   "source": []
  },
  {
   "cell_type": "code",
   "execution_count": 40,
   "id": "afd0e61f",
   "metadata": {},
   "outputs": [],
   "source": [
    "def initialize_inventory(product):\n",
    "    inventory={}\n",
    "    #for product in products:\n",
    "    #    quantity = int(input(f\"Enter quantity for {product}: \"))\n",
    "    #    inventory[product] = quantity\n",
    "\n",
    "    inventory=[int(input(f\"Enter quantity for {product}: \")) for product in products]\n",
    "    return inventory\n"
   ]
  },
  {
   "cell_type": "code",
   "execution_count": 55,
   "id": "e585c9d5",
   "metadata": {},
   "outputs": [],
   "source": [
    "def get_customer_orders():\n",
    "    customer_orders = set()\n",
    "    #while True:\n",
    "    #    product = input(\"Enter the product name (or type 'done' to finish): \")\n",
    "    #    if product.lower() == 'done':\n",
    "    #        break\n",
    "    #    customer_orders.add(product)\n",
    "    \n",
    "    customer_orders = {input(\"Enter the name of a product that a customer wants to order: \") for Corders in range(5)}\n",
    "    return customer_orders"
   ]
  },
  {
   "cell_type": "code",
   "execution_count": 56,
   "id": "4b44c371",
   "metadata": {},
   "outputs": [],
   "source": [
    "def calculate_total_price(products):\n",
    "    \"\"\"\n",
    "    Function to calculate the total price of the customer order.\n",
    "    Prompts the user to enter the price for each product in the list.\n",
    "    Returns the total price.\n",
    "    \"\"\"\n",
    "    total_price = sum([float(input(f\"Enter the price for {product}: \")) for product in range[customer_orders]])\n",
    "    return total_price"
   ]
  },
  {
   "cell_type": "code",
   "execution_count": 57,
   "id": "a65bcd49",
   "metadata": {},
   "outputs": [],
   "source": [
    "def update_inventory(customer_orders,inventory):\n",
    "    inventory = {product: inventory[product] - 1 if product in customer_orders else inventory[product] for product in inventory}\n",
    "    updated_inventory = {product: qty for product, qty in inventory.items() if qty > 0}\n",
    "    return inventory"
   ]
  },
  {
   "cell_type": "code",
   "execution_count": 62,
   "id": "4d2e3088",
   "metadata": {},
   "outputs": [
    {
     "ename": "IndexError",
     "evalue": "list index out of range",
     "output_type": "error",
     "traceback": [
      "\u001b[1;31m---------------------------------------------------------------------------\u001b[0m",
      "\u001b[1;31mIndexError\u001b[0m                                Traceback (most recent call last)",
      "Cell \u001b[1;32mIn[62], line 22\u001b[0m\n\u001b[0;32m     19\u001b[0m     \u001b[38;5;28mprint\u001b[39m(\u001b[38;5;124mf\u001b[39m\u001b[38;5;124m\"\u001b[39m\u001b[38;5;130;01m\\n\u001b[39;00m\u001b[38;5;124mTotal Price: \u001b[39m\u001b[38;5;132;01m{\u001b[39;00mtotal_price\u001b[38;5;132;01m:\u001b[39;00m\u001b[38;5;124m.1f\u001b[39m\u001b[38;5;132;01m}\u001b[39;00m\u001b[38;5;124m\"\u001b[39m)\n\u001b[0;32m     21\u001b[0m \u001b[38;5;66;03m# Start the process\u001b[39;00m\n\u001b[1;32m---> 22\u001b[0m \u001b[43mmain\u001b[49m\u001b[43m(\u001b[49m\u001b[43m)\u001b[49m\n",
      "Cell \u001b[1;32mIn[62], line 14\u001b[0m, in \u001b[0;36mmain\u001b[1;34m()\u001b[0m\n\u001b[0;32m     10\u001b[0m customer_orders \u001b[38;5;241m=\u001b[39m get_customer_orders()\n\u001b[0;32m     13\u001b[0m \u001b[38;5;66;03m# Step 4: Update Inventory\u001b[39;00m\n\u001b[1;32m---> 14\u001b[0m updated_inventory \u001b[38;5;241m=\u001b[39m \u001b[43mupdate_inventory\u001b[49m\u001b[43m(\u001b[49m\u001b[43mcustomer_orders\u001b[49m\u001b[43m,\u001b[49m\u001b[43m \u001b[49m\u001b[43minventory\u001b[49m\u001b[43m)\u001b[49m\n\u001b[0;32m     15\u001b[0m print_inventory(updated_inventory)\n\u001b[0;32m     17\u001b[0m \u001b[38;5;66;03m# Step 5: Calculate Total Price\u001b[39;00m\n",
      "Cell \u001b[1;32mIn[57], line 2\u001b[0m, in \u001b[0;36mupdate_inventory\u001b[1;34m(customer_orders, inventory)\u001b[0m\n\u001b[0;32m      1\u001b[0m \u001b[38;5;28;01mdef\u001b[39;00m \u001b[38;5;21mupdate_inventory\u001b[39m(customer_orders,inventory):\n\u001b[1;32m----> 2\u001b[0m     inventory \u001b[38;5;241m=\u001b[39m {product: inventory[product] \u001b[38;5;241m-\u001b[39m \u001b[38;5;241m1\u001b[39m \u001b[38;5;28;01mif\u001b[39;00m product \u001b[38;5;129;01min\u001b[39;00m customer_orders \u001b[38;5;28;01melse\u001b[39;00m \u001b[43minventory\u001b[49m\u001b[43m[\u001b[49m\u001b[43mproduct\u001b[49m\u001b[43m]\u001b[49m \u001b[38;5;28;01mfor\u001b[39;00m product \u001b[38;5;129;01min\u001b[39;00m inventory}\n\u001b[0;32m      3\u001b[0m     updated_inventory \u001b[38;5;241m=\u001b[39m {product: qty \u001b[38;5;28;01mfor\u001b[39;00m product, qty \u001b[38;5;129;01min\u001b[39;00m inventory\u001b[38;5;241m.\u001b[39mitems() \u001b[38;5;28;01mif\u001b[39;00m qty \u001b[38;5;241m>\u001b[39m \u001b[38;5;241m0\u001b[39m}\n\u001b[0;32m      4\u001b[0m     \u001b[38;5;28;01mreturn\u001b[39;00m inventory\n",
      "\u001b[1;31mIndexError\u001b[0m: list index out of range"
     ]
    }
   ],
   "source": [
    "def main():\n",
    "\n",
    "# List of products\n",
    "    products = [\"mug\", \"hat\", \"t-shirt\", \"book\"]\n",
    "    # Step 1: Initialize inventory\n",
    "\n",
    "    inventory = initialize_inventory(products)\n",
    "    \n",
    "    # Step 2: Gather customer orders\n",
    "    customer_orders = get_customer_orders()\n",
    "    \n",
    "    \n",
    "    # Step 4: Update Inventory\n",
    "    updated_inventory = update_inventory(customer_orders, inventory)\n",
    "    print_inventory(updated_inventory)\n",
    "    \n",
    "    # Step 5: Calculate Total Price\n",
    "    total_price = calculate_total_price(set(customer_orders))\n",
    "    print(f\"\\nTotal Price: {total_price:.1f}\")\n",
    "\n",
    "# Start the process\n",
    "main()"
   ]
  }
 ],
 "metadata": {
  "kernelspec": {
   "display_name": "Python 3 (ipykernel)",
   "language": "python",
   "name": "python3"
  },
  "language_info": {
   "codemirror_mode": {
    "name": "ipython",
    "version": 3
   },
   "file_extension": ".py",
   "mimetype": "text/x-python",
   "name": "python",
   "nbconvert_exporter": "python",
   "pygments_lexer": "ipython3",
   "version": "3.12.4"
  }
 },
 "nbformat": 4,
 "nbformat_minor": 5
}
